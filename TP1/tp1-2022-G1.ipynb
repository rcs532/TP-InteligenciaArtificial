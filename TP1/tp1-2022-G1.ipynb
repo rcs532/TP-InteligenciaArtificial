{
 "cells": [
  {
   "cell_type": "markdown",
   "metadata": {},
   "source": [
    "# *TP1 Inteligencia Artificial*\n",
    "## Dataset: Clientes\n",
    "\n",
    "\n",
    "Cada fila representa un cliente, cada columna contiene atributos de este. \n",
    "\n",
    "La columna *Churn* indica si el cliente dejo de utilizar el servicio o no.\n",
    "\n",
    "clientes | atributos\n",
    ":----:   | :----:\n",
    "7043     | 21\n",
    "\n",
    "## 1. Identificar el tipo/clase de problema\n",
    "\n",
    "Dado el dataset obtenido queremos saber si futuros clientes seguiran utilizando el servicio o no. Para eso vamos a usar algoritmos de clasificacion\n",
    "\n",
    "\n",
    "## 2. Identificar las variables y sus características. Describirlas.\n",
    "\n",
    "# Variables\n",
    "\n",
    "Nombre   | Descripción  | Posibles valores | Tipo de Variable\n",
    ":------- | :-----       | :---: | :---:\n",
    "customerID | Identificación del cliente | (...) | No Aplica\n",
    "gender | Género del cliente | (...) | Categorica\n",
    "SeniorCitizen | Es un adulto mayor | (1,0) | Categorica\n",
    "Partner | Tiene un socio | (Yes, No) | Categorica\n",
    "Dependents | Tiene dependientes o no | (Yes, No) | Categorica\n",
    "Tenure | Número de meses que el cliente permaneció en la empresa | (...) | Numerica\n",
    "PhoneService | Servicio de telefonía asociado | (Yes, No) | Categorica\n",
    "MultipleLines | Si tiene múltiple líneas de telefonía | (Yes, No, No phone service) | Categorica\n",
    "InternetService | Tipo de servicio de internet | (DSL, Fiber optic, No) | Categorica\n",
    "OnlineSecurity | El cliente solicitó servicio de seguridad online | (Yes, No, No internet service) | Categorica\n",
    "OnlineBackup | Servicio de backup online brindado | (Yes, No, No internet service) | Categorica\n",
    "DeviceProtection | Servicio de protección de dispositivos móviles | (Yes, No, No internet service) | Categorica\n",
    "TechSupport | Servicio de soporte extendido | (Yes, No, No internet service) | Categorica\n",
    "StreamingTV | Servicio de streaming TV | (Yes, No, No internet service) | Categorica\n",
    "StreamingMovies | Servicio de streaming de películas | (Yes, No, No internet service) | Categorica\n",
    "Contract | Tipo de contrato, plazo | (Month-to-month, One year, Two year) | Categorica\n",
    "PaperlessBilling | Factura online | (Yes, No) | Categorica\n",
    "PaymentMethod | Método de pago | (Electronic check, Mailed check, Bank transfer (automatic), Credit card (automatic)) | Categorica\n",
    "MonthlyCharges | Valor facturado mensualmente | (...) | Numerica\n",
    "TotalCharges | Total facturado al cliente | (...) | Numerica\n",
    "Churn | El cliente se dio de baja del servicio | (Yes, No) | Categorica"
   ]
  },
  {
   "cell_type": "markdown",
   "metadata": {},
   "source": [
    "## 3. Realizar la tarea de preprocesamiento en caso de que fuese necesario. Limpieza de variables, normalización, categorización, remuestreo, binarización, categorización, etc."
   ]
  },
  {
   "cell_type": "code",
   "execution_count": 16,
   "metadata": {},
   "outputs": [],
   "source": [
    "# Cargamos la data con panda. Panda nos facilita el cargado de data mixto (numerico y categorico)\n",
    "# Referencia: https://stackoverflow.com/questions/11023411/how-to-import-csv-data-file-into-scikit-learn\n",
    "import pandas as pd\n",
    "dataset = pd.read_csv('./Cliente.csv', sep=',')\n",
    "dataset.describe(include='all')\n",
    "\n",
    "\n",
    "# Hide warnings\n",
    "import warnings\n",
    "warnings.filterwarnings('ignore')"
   ]
  },
  {
   "cell_type": "code",
   "execution_count": 17,
   "metadata": {},
   "outputs": [
    {
     "name": "stdout",
     "output_type": "stream",
     "text": [
      "<class 'pandas.core.frame.DataFrame'>\n",
      "Int64Index: 7032 entries, 0 to 7042\n",
      "Data columns (total 16 columns):\n",
      " #   Column            Non-Null Count  Dtype \n",
      "---  ------            --------------  ----- \n",
      " 0   gender            7032 non-null   object\n",
      " 1   Partner           7032 non-null   object\n",
      " 2   Dependents        7032 non-null   object\n",
      " 3   PhoneService      7032 non-null   object\n",
      " 4   MultipleLines     7032 non-null   object\n",
      " 5   InternetService   7032 non-null   object\n",
      " 6   OnlineSecurity    7032 non-null   object\n",
      " 7   OnlineBackup      7032 non-null   object\n",
      " 8   DeviceProtection  7032 non-null   object\n",
      " 9   TechSupport       7032 non-null   object\n",
      " 10  StreamingTV       7032 non-null   object\n",
      " 11  StreamingMovies   7032 non-null   object\n",
      " 12  Contract          7032 non-null   object\n",
      " 13  PaperlessBilling  7032 non-null   object\n",
      " 14  PaymentMethod     7032 non-null   object\n",
      " 15  Churn             7032 non-null   object\n",
      "dtypes: object(16)\n",
      "memory usage: 933.9+ KB\n"
     ]
    },
    {
     "data": {
      "text/plain": [
       "(6990, 20)"
      ]
     },
     "execution_count": 17,
     "metadata": {},
     "output_type": "execute_result"
    }
   ],
   "source": [
    "# Chequeamos que nuestro dataset no tenga valores nulos ni clientes duplicados\n",
    "from tokenize import String\n",
    "\n",
    "dataset.drop('customerID', inplace=True, axis=1) #El id no me aporta nada\n",
    "\n",
    "dataset['TotalCharges'] = pd.to_numeric(dataset['TotalCharges'],errors = 'coerce')\n",
    "dataset  = dataset.dropna() \n",
    "\n",
    "dataset.select_dtypes('object').info()\n",
    "dataset.drop_duplicates(keep = False, inplace = True)\n",
    "dataset.shape\n"
   ]
  },
  {
   "cell_type": "code",
   "execution_count": 18,
   "metadata": {},
   "outputs": [
    {
     "data": {
      "text/plain": [
       "gender               object\n",
       "SeniorCitizen         int64\n",
       "Partner              object\n",
       "Dependents           object\n",
       "tenure                int64\n",
       "PhoneService         object\n",
       "MultipleLines        object\n",
       "InternetService      object\n",
       "OnlineSecurity       object\n",
       "OnlineBackup         object\n",
       "DeviceProtection     object\n",
       "TechSupport          object\n",
       "StreamingTV          object\n",
       "StreamingMovies      object\n",
       "Contract             object\n",
       "PaperlessBilling     object\n",
       "PaymentMethod        object\n",
       "MonthlyCharges      float64\n",
       "TotalCharges        float64\n",
       "Churn                object\n",
       "dtype: object"
      ]
     },
     "execution_count": 18,
     "metadata": {},
     "output_type": "execute_result"
    }
   ],
   "source": [
    "dataset.dtypes"
   ]
  },
  {
   "cell_type": "code",
   "execution_count": 19,
   "metadata": {},
   "outputs": [
    {
     "data": {
      "image/png": "[encoded data removed]",
      "text/plain": [
       "<Figure size 1000x1000 with 4 Axes>"
      ]
     },
     "metadata": {},
     "output_type": "display_data"
    }
   ],
   "source": [
    "#grafico la distribucion de las variables (solo 3 son numericas )\n",
    "import matplotlib.pyplot as plt\n",
    "\n",
    "dataset.hist(figsize=(10,10))\n",
    "plt.show()"
   ]
  },
  {
   "cell_type": "code",
   "execution_count": 20,
   "metadata": {},
   "outputs": [
    {
     "data": {
      "text/plain": [
       "<AxesSubplot: >"
      ]
     },
     "execution_count": 20,
     "metadata": {},
     "output_type": "execute_result"
    },
    {
     "data": {
      "image/png": "[encoded data removed]",
      "text/plain": [
       "<Figure size 1000x1000 with 2 Axes>"
      ]
     },
     "metadata": {},
     "output_type": "display_data"
    }
   ],
   "source": [
    "# Heatmap para describir la correlacion de variables\n",
    "# Referencia: https://stackoverflow.com/questions/29432629/plot-correlation-matrix-using-pandas\n",
    "import seaborn as sns\n",
    "import matplotlib.pyplot as plt\n",
    "\n",
    "fig, ax = plt.subplots(figsize=(10,10))\n",
    "corr = dataset.corr()\n",
    "sns.heatmap(corr, \n",
    "            xticklabels=corr.columns.values,\n",
    "            yticklabels=corr.columns.values, ax=ax, annot=True)"
   ]
  },
  {
   "cell_type": "code",
   "execution_count": 21,
   "metadata": {},
   "outputs": [
    {
     "name": "stdout",
     "output_type": "stream",
     "text": [
      "Categorias unicas por variable: \n",
      "gender                 2\n",
      "SeniorCitizen          2\n",
      "Partner                2\n",
      "Dependents             2\n",
      "tenure                72\n",
      "PhoneService           2\n",
      "MultipleLines          3\n",
      "InternetService        3\n",
      "OnlineSecurity         3\n",
      "OnlineBackup           3\n",
      "DeviceProtection       3\n",
      "TechSupport            3\n",
      "StreamingTV            3\n",
      "StreamingMovies        3\n",
      "Contract               3\n",
      "PaperlessBilling       2\n",
      "PaymentMethod          4\n",
      "MonthlyCharges      1584\n",
      "TotalCharges        6528\n",
      "Churn                  2\n",
      "dtype: int64\n"
     ]
    },
    {
     "data": {
      "text/html": [
       "<div>\n",
       "<style scoped>\n",
       "    .dataframe tbody tr th:only-of-type {\n",
       "        vertical-align: middle;\n",
       "    }\n",
       "\n",
       "    .dataframe tbody tr th {\n",
       "        vertical-align: top;\n",
       "    }\n",
       "\n",
       "    .dataframe thead th {\n",
       "        text-align: right;\n",
       "    }\n",
       "</style>\n",
       "<table border=\"1\" class=\"dataframe\">\n",
       "  <thead>\n",
       "    <tr style=\"text-align: right;\">\n",
       "      <th></th>\n",
       "      <th>SeniorCitizen</th>\n",
       "      <th>tenure</th>\n",
       "      <th>MonthlyCharges</th>\n",
       "      <th>TotalCharges</th>\n",
       "      <th>Churn</th>\n",
       "      <th>gender_Female</th>\n",
       "      <th>gender_Male</th>\n",
       "      <th>Partner_No</th>\n",
       "      <th>Partner_Yes</th>\n",
       "      <th>Dependents_No</th>\n",
       "      <th>...</th>\n",
       "      <th>StreamingMovies_Yes</th>\n",
       "      <th>Contract_Month-to-month</th>\n",
       "      <th>Contract_One year</th>\n",
       "      <th>Contract_Two year</th>\n",
       "      <th>PaperlessBilling_No</th>\n",
       "      <th>PaperlessBilling_Yes</th>\n",
       "      <th>PaymentMethod_Bank transfer (automatic)</th>\n",
       "      <th>PaymentMethod_Credit card (automatic)</th>\n",
       "      <th>PaymentMethod_Electronic check</th>\n",
       "      <th>PaymentMethod_Mailed check</th>\n",
       "    </tr>\n",
       "  </thead>\n",
       "  <tbody>\n",
       "    <tr>\n",
       "      <th>0</th>\n",
       "      <td>0</td>\n",
       "      <td>1</td>\n",
       "      <td>29.85</td>\n",
       "      <td>29.85</td>\n",
       "      <td>0</td>\n",
       "      <td>1</td>\n",
       "      <td>0</td>\n",
       "      <td>0</td>\n",
       "      <td>1</td>\n",
       "      <td>1</td>\n",
       "      <td>...</td>\n",
       "      <td>0</td>\n",
       "      <td>1</td>\n",
       "      <td>0</td>\n",
       "      <td>0</td>\n",
       "      <td>0</td>\n",
       "      <td>1</td>\n",
       "      <td>0</td>\n",
       "      <td>0</td>\n",
       "      <td>1</td>\n",
       "      <td>0</td>\n",
       "    </tr>\n",
       "    <tr>\n",
       "      <th>1</th>\n",
       "      <td>0</td>\n",
       "      <td>34</td>\n",
       "      <td>56.95</td>\n",
       "      <td>1889.50</td>\n",
       "      <td>0</td>\n",
       "      <td>0</td>\n",
       "      <td>1</td>\n",
       "      <td>1</td>\n",
       "      <td>0</td>\n",
       "      <td>1</td>\n",
       "      <td>...</td>\n",
       "      <td>0</td>\n",
       "      <td>0</td>\n",
       "      <td>1</td>\n",
       "      <td>0</td>\n",
       "      <td>1</td>\n",
       "      <td>0</td>\n",
       "      <td>0</td>\n",
       "      <td>0</td>\n",
       "      <td>0</td>\n",
       "      <td>1</td>\n",
       "    </tr>\n",
       "    <tr>\n",
       "      <th>2</th>\n",
       "      <td>0</td>\n",
       "      <td>2</td>\n",
       "      <td>53.85</td>\n",
       "      <td>108.15</td>\n",
       "      <td>1</td>\n",
       "      <td>0</td>\n",
       "      <td>1</td>\n",
       "      <td>1</td>\n",
       "      <td>0</td>\n",
       "      <td>1</td>\n",
       "      <td>...</td>\n",
       "      <td>0</td>\n",
       "      <td>1</td>\n",
       "      <td>0</td>\n",
       "      <td>0</td>\n",
       "      <td>0</td>\n",
       "      <td>1</td>\n",
       "      <td>0</td>\n",
       "      <td>0</td>\n",
       "      <td>0</td>\n",
       "      <td>1</td>\n",
       "    </tr>\n",
       "    <tr>\n",
       "      <th>3</th>\n",
       "      <td>0</td>\n",
       "      <td>45</td>\n",
       "      <td>42.30</td>\n",
       "      <td>1840.75</td>\n",
       "      <td>0</td>\n",
       "      <td>0</td>\n",
       "      <td>1</td>\n",
       "      <td>1</td>\n",
       "      <td>0</td>\n",
       "      <td>1</td>\n",
       "      <td>...</td>\n",
       "      <td>0</td>\n",
       "      <td>0</td>\n",
       "      <td>1</td>\n",
       "      <td>0</td>\n",
       "      <td>1</td>\n",
       "      <td>0</td>\n",
       "      <td>1</td>\n",
       "      <td>0</td>\n",
       "      <td>0</td>\n",
       "      <td>0</td>\n",
       "    </tr>\n",
       "    <tr>\n",
       "      <th>4</th>\n",
       "      <td>0</td>\n",
       "      <td>2</td>\n",
       "      <td>70.70</td>\n",
       "      <td>151.65</td>\n",
       "      <td>1</td>\n",
       "      <td>1</td>\n",
       "      <td>0</td>\n",
       "      <td>1</td>\n",
       "      <td>0</td>\n",
       "      <td>1</td>\n",
       "      <td>...</td>\n",
       "      <td>0</td>\n",
       "      <td>1</td>\n",
       "      <td>0</td>\n",
       "      <td>0</td>\n",
       "      <td>0</td>\n",
       "      <td>1</td>\n",
       "      <td>0</td>\n",
       "      <td>0</td>\n",
       "      <td>1</td>\n",
       "      <td>0</td>\n",
       "    </tr>\n",
       "  </tbody>\n",
       "</table>\n",
       "<p>5 rows × 46 columns</p>\n",
       "</div>"
      ],
      "text/plain": [
       "   SeniorCitizen  tenure  MonthlyCharges  TotalCharges  Churn  gender_Female  \\\n",
       "0              0       1           29.85         29.85      0              1   \n",
       "1              0      34           56.95       1889.50      0              0   \n",
       "2              0       2           53.85        108.15      1              0   \n",
       "3              0      45           42.30       1840.75      0              0   \n",
       "4              0       2           70.70        151.65      1              1   \n",
       "\n",
       "   gender_Male  Partner_No  Partner_Yes  Dependents_No  ...  \\\n",
       "0            0           0            1              1  ...   \n",
       "1            1           1            0              1  ...   \n",
       "2            1           1            0              1  ...   \n",
       "3            1           1            0              1  ...   \n",
       "4            0           1            0              1  ...   \n",
       "\n",
       "   StreamingMovies_Yes  Contract_Month-to-month  Contract_One year  \\\n",
       "0                    0                        1                  0   \n",
       "1                    0                        0                  1   \n",
       "2                    0                        1                  0   \n",
       "3                    0                        0                  1   \n",
       "4                    0                        1                  0   \n",
       "\n",
       "   Contract_Two year  PaperlessBilling_No  PaperlessBilling_Yes  \\\n",
       "0                  0                    0                     1   \n",
       "1                  0                    1                     0   \n",
       "2                  0                    0                     1   \n",
       "3                  0                    1                     0   \n",
       "4                  0                    0                     1   \n",
       "\n",
       "   PaymentMethod_Bank transfer (automatic)  \\\n",
       "0                                        0   \n",
       "1                                        0   \n",
       "2                                        0   \n",
       "3                                        1   \n",
       "4                                        0   \n",
       "\n",
       "   PaymentMethod_Credit card (automatic)  PaymentMethod_Electronic check  \\\n",
       "0                                      0                               1   \n",
       "1                                      0                               0   \n",
       "2                                      0                               0   \n",
       "3                                      0                               0   \n",
       "4                                      0                               1   \n",
       "\n",
       "   PaymentMethod_Mailed check  \n",
       "0                           0  \n",
       "1                           1  \n",
       "2                           1  \n",
       "3                           0  \n",
       "4                           0  \n",
       "\n",
       "[5 rows x 46 columns]"
      ]
     },
     "execution_count": 21,
     "metadata": {},
     "output_type": "execute_result"
    }
   ],
   "source": [
    "from sklearn.preprocessing import LabelEncoder\n",
    "\n",
    "# Necesitamos que todos nuestros datos sean numericos, asi que haremos uso de la tecnica de encoding\n",
    "# Referencia: https://pbpython.com/categorical-encoding.html\n",
    "# Podriamos realizar el encoding manualmente reemplazando valores, por simplicidad usaremos un algoritmo que lo haga por nosotros.\n",
    "\n",
    "print(f\"Categorias unicas por variable: \\n{dataset.nunique()}\")\n",
    "dataset = pd.get_dummies(dataset, columns=['gender', 'Partner', 'Dependents', 'PhoneService', 'MultipleLines', 'InternetService', 'OnlineSecurity', 'OnlineBackup', 'DeviceProtection', 'TechSupport' ,'StreamingTV','StreamingMovies','Contract','PaperlessBilling','PaymentMethod'])\n",
    "\n",
    "# LabelEnconder solo se usa para churn, tal como indica la documentacion de scikit.\n",
    "labelEncoder = LabelEncoder()\n",
    "dataset['Churn'] = labelEncoder.fit_transform(dataset['Churn'])\n",
    "\n",
    "dataset.head()"
   ]
  },
  {
   "cell_type": "markdown",
   "metadata": {},
   "source": [
    "## 4. Aplicar al menos tres (3) modelos de Machine Learning distintos para el problema identificado.\n",
    "* Formalizar una técnica de selección de los datos.\n",
    "* Evaluar cada modelo según los resultados obtenidos.\n",
    "* Comentar las ventajas y limitación de los modelos elegidos.\n",
    "\n",
    "Aplicaremos los siguientes modelos:\n",
    "\n",
    "1. Regresion logistica.\n",
    "2. Gradient Boosting Machines.\n",
    "3. Neural Networks."
   ]
  },
  {
   "cell_type": "code",
   "execution_count": 22,
   "metadata": {},
   "outputs": [],
   "source": [
    "from sklearn.preprocessing import StandardScaler\n",
    "from sklearn.model_selection import train_test_split, GridSearchCV, RandomizedSearchCV\n",
    "\n",
    "X = dataset.drop(columns = 'Churn',axis=1).values\n",
    "y = dataset['Churn'].values\n",
    "\n",
    "# Hacemos el split\n",
    "X_train, X_test, y_train, y_test = train_test_split(X, y, test_size=0.2, random_state=123)\n",
    "\n",
    "# Standard Scaler \n",
    "sc = StandardScaler()\n",
    "X_train = sc.fit_transform(X_train)\n",
    "X_test = sc.fit_transform(X_test)"
   ]
  },
  {
   "cell_type": "markdown",
   "metadata": {},
   "source": [
    "## 1. Arboles de decision"
   ]
  },
  {
   "cell_type": "code",
   "execution_count": 23,
   "metadata": {},
   "outputs": [
    {
     "name": "stdout",
     "output_type": "stream",
     "text": [
      "Accuracy on training set: 0.998\n",
      "Accuracy on test set: 0.715\n",
      "Accuracy on training set: 0.815\n",
      "Accuracy on test set: 0.786\n"
     ]
    }
   ],
   "source": [
    "from sklearn.tree import DecisionTreeClassifier\n",
    "\n",
    "tree = DecisionTreeClassifier(random_state=0)\n",
    "tree.fit(X_train, y_train)\n",
    "print(\"Accuracy on training set: {:.3f}\".format(tree.score(X_train, y_train)))\n",
    "print(\"Accuracy on test set: {:.3f}\".format(tree.score(X_test, y_test)))\n",
    "\n",
    "##si hago pre-prunning para mejorar el overfitting\n",
    "\n",
    "tree = DecisionTreeClassifier(criterion=\"entropy\", max_depth=7)\n",
    "tree.fit(X_train, y_train)\n",
    "\n",
    "print(\"Accuracy on training set: {:.3f}\".format(tree.score(X_train, y_train)))\n",
    "print(\"Accuracy on test set: {:.3f}\".format(tree.score(X_test, y_test)))\n",
    "\n"
   ]
  },
  {
   "cell_type": "markdown",
   "metadata": {},
   "source": [
    "## 2.Regresion Logistica"
   ]
  },
  {
   "cell_type": "code",
   "execution_count": 24,
   "metadata": {},
   "outputs": [
    {
     "name": "stdout",
     "output_type": "stream",
     "text": [
      "La precision de nuestro modelo sobre el training set es 0.8036\n",
      "La precision de nuestro modelo sobre el test set es 0.8069\n"
     ]
    }
   ],
   "source": [
    "from sklearn.linear_model import LogisticRegression\n",
    "\n",
    "# Primera corrida ingenua\n",
    "logistic = LogisticRegression(random_state=22, solver='saga')\n",
    "logistic.fit(X_train, y_train)\n",
    "\n",
    "print(f'La precision de nuestro modelo sobre el training set es {logistic.score(X_train, y_train):.4f}')\n",
    "print(f'La precision de nuestro modelo sobre el test set es {logistic.score(X_test, y_test):.4f}')"
   ]
  },
  {
   "cell_type": "code",
   "execution_count": 25,
   "metadata": {},
   "outputs": [
    {
     "name": "stdout",
     "output_type": "stream",
     "text": [
      "Fitting 5 folds for each of 7 candidates, totalling 35 fits\n",
      "\n",
      "La precision de nuestro modelo sobre el training set es 0.8051\n",
      "La precision de nuestro modelo sobre el test set es 0.8097\n",
      "El mejor score es: 0.803112 usando {'C': 10}\n"
     ]
    }
   ],
   "source": [
    "# Probamos usar gridsearch para buscar los mejores hiperparametros\n",
    "param_grid = {'C': [0.001, 0.01, 0.1, 1, 10, 100, 1000] }\n",
    "clf = GridSearchCV(LogisticRegression(penalty='l2', random_state=22, solver='saga'), param_grid, scoring='accuracy', verbose=True)\n",
    "\n",
    "result = clf.fit(X_train, y_train)\n",
    "print(f'\\nLa precision de nuestro modelo sobre el training set es {clf.score(X_train, y_train):.4f}')\n",
    "print(f'La precision de nuestro modelo sobre el test set es {clf.score(X_test, y_test):.4f}')\n",
    "\n",
    "print(\"El mejor score es: %f usando %s\" % (result.best_score_, result.best_params_))"
   ]
  },
  {
   "cell_type": "markdown",
   "metadata": {},
   "source": [
    "## 3. Árboles de Decisión Aumentados por Gradiente (Gradient Boosting Machines)"
   ]
  },
  {
   "cell_type": "code",
   "execution_count": 26,
   "metadata": {},
   "outputs": [
    {
     "name": "stdout",
     "output_type": "stream",
     "text": [
      "Accuracy en el training set: 0.8294\n",
      "Accuracy en el test set: 0.8126\n"
     ]
    }
   ],
   "source": [
    "from sklearn.ensemble import GradientBoostingClassifier\n",
    "\n",
    "# Primera corrida ingenua\n",
    "gradient = GradientBoostingClassifier()\n",
    "gradient.fit(X_train, y_train)\n",
    "\n",
    "print(f'Accuracy en el training set: {gradient.score(X_train, y_train):.4f}')\n",
    "print(f'Accuracy en el test set: {gradient.score(X_test, y_test):.4f}')"
   ]
  },
  {
   "cell_type": "code",
   "execution_count": 27,
   "metadata": {},
   "outputs": [
    {
     "name": "stdout",
     "output_type": "stream",
     "text": [
      "Fitting 5 folds for each of 60 candidates, totalling 300 fits\n",
      "El mejor score es: 0.803827 usando {'learning_rate': 0.01, 'max_depth': 3, 'n_estimators': 500}\n",
      "0.738734 (0.000301) con: {'learning_rate': 0.0001, 'max_depth': 3, 'n_estimators': 10}\n",
      "0.738734 (0.000301) con: {'learning_rate': 0.0001, 'max_depth': 3, 'n_estimators': 50}\n",
      "0.738734 (0.000301) con: {'learning_rate': 0.0001, 'max_depth': 3, 'n_estimators': 100}\n",
      "0.738734 (0.000301) con: {'learning_rate': 0.0001, 'max_depth': 3, 'n_estimators': 500}\n",
      "0.738734 (0.000301) con: {'learning_rate': 0.0001, 'max_depth': 7, 'n_estimators': 10}\n",
      "0.738734 (0.000301) con: {'learning_rate': 0.0001, 'max_depth': 7, 'n_estimators': 50}\n",
      "0.738734 (0.000301) con: {'learning_rate': 0.0001, 'max_depth': 7, 'n_estimators': 100}\n",
      "0.738734 (0.000301) con: {'learning_rate': 0.0001, 'max_depth': 7, 'n_estimators': 500}\n",
      "0.738734 (0.000301) con: {'learning_rate': 0.0001, 'max_depth': 9, 'n_estimators': 10}\n",
      "0.738734 (0.000301) con: {'learning_rate': 0.0001, 'max_depth': 9, 'n_estimators': 50}\n",
      "0.738734 (0.000301) con: {'learning_rate': 0.0001, 'max_depth': 9, 'n_estimators': 100}\n",
      "0.738734 (0.000301) con: {'learning_rate': 0.0001, 'max_depth': 9, 'n_estimators': 500}\n",
      "0.738734 (0.000301) con: {'learning_rate': 0.001, 'max_depth': 3, 'n_estimators': 10}\n",
      "0.738734 (0.000301) con: {'learning_rate': 0.001, 'max_depth': 3, 'n_estimators': 50}\n",
      "0.738734 (0.000301) con: {'learning_rate': 0.001, 'max_depth': 3, 'n_estimators': 100}\n",
      "0.738734 (0.000301) con: {'learning_rate': 0.001, 'max_depth': 3, 'n_estimators': 500}\n",
      "0.738734 (0.000301) con: {'learning_rate': 0.001, 'max_depth': 7, 'n_estimators': 10}\n",
      "0.738734 (0.000301) con: {'learning_rate': 0.001, 'max_depth': 7, 'n_estimators': 50}\n",
      "0.738734 (0.000301) con: {'learning_rate': 0.001, 'max_depth': 7, 'n_estimators': 100}\n",
      "0.756796 (0.003733) con: {'learning_rate': 0.001, 'max_depth': 7, 'n_estimators': 500}\n",
      "0.738734 (0.000301) con: {'learning_rate': 0.001, 'max_depth': 9, 'n_estimators': 10}\n",
      "0.738734 (0.000301) con: {'learning_rate': 0.001, 'max_depth': 9, 'n_estimators': 50}\n",
      "0.738734 (0.000301) con: {'learning_rate': 0.001, 'max_depth': 9, 'n_estimators': 100}\n",
      "0.755900 (0.005698) con: {'learning_rate': 0.001, 'max_depth': 9, 'n_estimators': 500}\n",
      "0.738734 (0.000301) con: {'learning_rate': 0.01, 'max_depth': 3, 'n_estimators': 10}\n",
      "0.738734 (0.000301) con: {'learning_rate': 0.01, 'max_depth': 3, 'n_estimators': 50}\n",
      "0.777897 (0.006302) con: {'learning_rate': 0.01, 'max_depth': 3, 'n_estimators': 100}\n",
      "0.803827 (0.003014) con: {'learning_rate': 0.01, 'max_depth': 3, 'n_estimators': 500}\n",
      "0.738734 (0.000301) con: {'learning_rate': 0.01, 'max_depth': 7, 'n_estimators': 10}\n",
      "0.757869 (0.004493) con: {'learning_rate': 0.01, 'max_depth': 7, 'n_estimators': 50}\n",
      "0.787375 (0.002271) con: {'learning_rate': 0.01, 'max_depth': 7, 'n_estimators': 100}\n",
      "0.790951 (0.005581) con: {'learning_rate': 0.01, 'max_depth': 7, 'n_estimators': 500}\n",
      "0.738734 (0.000301) con: {'learning_rate': 0.01, 'max_depth': 9, 'n_estimators': 10}\n",
      "0.755543 (0.005367) con: {'learning_rate': 0.01, 'max_depth': 9, 'n_estimators': 50}\n",
      "0.779865 (0.006750) con: {'learning_rate': 0.01, 'max_depth': 9, 'n_estimators': 100}\n",
      "0.784692 (0.007010) con: {'learning_rate': 0.01, 'max_depth': 9, 'n_estimators': 500}\n",
      "0.779328 (0.005808) con: {'learning_rate': 0.1, 'max_depth': 3, 'n_estimators': 10}\n",
      "0.803292 (0.004382) con: {'learning_rate': 0.1, 'max_depth': 3, 'n_estimators': 50}\n",
      "0.800967 (0.006176) con: {'learning_rate': 0.1, 'max_depth': 3, 'n_estimators': 100}\n",
      "0.790596 (0.009597) con: {'learning_rate': 0.1, 'max_depth': 3, 'n_estimators': 500}\n",
      "0.786123 (0.005813) con: {'learning_rate': 0.1, 'max_depth': 7, 'n_estimators': 10}\n",
      "0.790235 (0.007786) con: {'learning_rate': 0.1, 'max_depth': 7, 'n_estimators': 50}\n",
      "0.786303 (0.009782) con: {'learning_rate': 0.1, 'max_depth': 7, 'n_estimators': 100}\n",
      "0.778434 (0.006757) con: {'learning_rate': 0.1, 'max_depth': 7, 'n_estimators': 500}\n",
      "0.779507 (0.007272) con: {'learning_rate': 0.1, 'max_depth': 9, 'n_estimators': 10}\n",
      "0.783264 (0.009415) con: {'learning_rate': 0.1, 'max_depth': 9, 'n_estimators': 50}\n",
      "0.782011 (0.007161) con: {'learning_rate': 0.1, 'max_depth': 9, 'n_estimators': 100}\n",
      "0.782545 (0.009409) con: {'learning_rate': 0.1, 'max_depth': 9, 'n_estimators': 500}\n",
      "0.793276 (0.006074) con: {'learning_rate': 1.0, 'max_depth': 3, 'n_estimators': 10}\n",
      "0.774496 (0.010910) con: {'learning_rate': 1.0, 'max_depth': 3, 'n_estimators': 50}\n",
      "0.765379 (0.006912) con: {'learning_rate': 1.0, 'max_depth': 3, 'n_estimators': 100}\n",
      "0.758939 (0.010407) con: {'learning_rate': 1.0, 'max_depth': 3, 'n_estimators': 500}\n",
      "0.754115 (0.007278) con: {'learning_rate': 1.0, 'max_depth': 7, 'n_estimators': 10}\n",
      "0.757153 (0.013670) con: {'learning_rate': 1.0, 'max_depth': 7, 'n_estimators': 50}\n",
      "0.757330 (0.006433) con: {'learning_rate': 1.0, 'max_depth': 7, 'n_estimators': 100}\n",
      "0.768062 (0.001925) con: {'learning_rate': 1.0, 'max_depth': 7, 'n_estimators': 500}\n",
      "0.746067 (0.009443) con: {'learning_rate': 1.0, 'max_depth': 9, 'n_estimators': 10}\n",
      "0.757869 (0.006855) con: {'learning_rate': 1.0, 'max_depth': 9, 'n_estimators': 50}\n",
      "0.773069 (0.007360) con: {'learning_rate': 1.0, 'max_depth': 9, 'n_estimators': 100}\n",
      "0.769315 (0.006594) con: {'learning_rate': 1.0, 'max_depth': 9, 'n_estimators': 500}\n",
      "Accuracy en el training set: 0.8176\n",
      "Accuracy en el test set: 0.8104\n"
     ]
    }
   ],
   "source": [
    "# Probamos usar gridsearch para buscar los mejores hiperparametros\n",
    "from sklearn.utils import parallel_backend\n",
    "\n",
    "param_grid = {'n_estimators': [10, 50, 100, 500],\n",
    "              'learning_rate': [0.0001, 0.001, 0.01, 0.1, 1.0],\n",
    "              'subsample': [0.5, 0.7, 1.0],\n",
    "              'max_depth': [3, 7, 9] }\n",
    "\n",
    "\n",
    "\n",
    "clf = GridSearchCV(GradientBoostingClassifier(), param_grid, n_jobs=-1 ,scoring='accuracy', verbose=2)\n",
    "result = clf.fit(X_train, y_train)\n",
    "\n",
    "print(\"El mejor score es: %f usando %s\" % (result.best_score_, result.best_params_))\n",
    "\n",
    "means = result.cv_results_['mean_test_score']\n",
    "stds = result.cv_results_['std_test_score']\n",
    "params = result.cv_results_['params']\n",
    "for mean, stdev, param in zip(means, stds, params):\n",
    "    print(\"%f (%f) con: %r\" % (mean, stdev, param))\n",
    "\n",
    "print(f'Accuracy en el training set: {clf.score(X_train, y_train):.4f}')\n",
    "print(f'Accuracy en el test set: {clf.score(X_test, y_test):.4f}')"
   ]
  }
 ],
 "metadata": {
  "kernelspec": {
   "display_name": "Python 3.9.11 64-bit",
   "language": "python",
   "name": "python3"
  },
  "language_info": {
   "codemirror_mode": {
    "name": "ipython",
    "version": 3
   },
   "file_extension": ".py",
   "mimetype": "text/x-python",
   "name": "python",
   "nbconvert_exporter": "python",
   "pygments_lexer": "ipython3",
   "version": "3.9.11"
  },
  "orig_nbformat": 4,
  "vscode": {
   "interpreter": {
    "hash": "64b730e630278ab54d56a5d83db3f9cda11719fb7ad894beaf365f10f7eb3fa1"
   }
  }
 },
 "nbformat": 4,
 "nbformat_minor": 2
}
